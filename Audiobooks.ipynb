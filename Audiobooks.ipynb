{
 "cells": [
  {
   "cell_type": "markdown",
   "metadata": {},
   "source": [
    "# Business case"
   ]
  },
  {
   "cell_type": "markdown",
   "metadata": {},
   "source": [
    "### Problem\n",
    "\n",
    "Given a data from an Audiobook App. Logically, it relates to the audio versions of books only. Each customer in the database has made a purchase at least once, that's why he/she is in the database. We want to create a machine learning algorithm based on our available data that can predict if a customer will buy again from the Audiobook company.\n",
    "\n",
    "The main idea is that if a customer has a low probability of coming back, there is no reason to spend any money on advertising to him/her. If we can focus our efforts solely on customers that are likely to convert again, we can make great savings. Moreover, this model can identify the most important metrics for a customer to come back again. Identifying new customers creates value and growth opportunities.\n",
    "\n",
    "You have a .csv summarizing the data. There are several variables: Customer ID, ), Book length overall (sum of the minute length of all purchases), Book length avg (average length in minutes of all purchases), Price paid_overall (sum of all purchases) ,Price Paid avg (average of all purchases), Review (a Boolean variable whether the customer left a review), Review out of 10 (if the customer left a review, his/her review out of 10, Total minutes listened, Completion (from 0 to 1), Support requests (number of support requests; everything from forgotten password to assistance for using the App), and Last visited minus purchase date (in days).\n",
    "\n",
    "The targets are a Boolean variable (0 or 1). We are taking a period of 2 years in our inputs, and the next 6 months as targets. So, in fact, we are predicting if: based on the last 2 years of activity and engagement, a customer will convert in the next 6 months. If they don't convert after 6 months, chances are they've gone to a competitor or didn't like the Audiobook way of digesting information. \n",
    "\n",
    "The task is: create a machine learning algorithm, which is able to predict if a customer will buy again. \n",
    "\n",
    "This is a classification problem with two classes: won't buy and will buy, represented by 0s and 1s. \n"
   ]
  },
  {
   "cell_type": "markdown",
   "metadata": {},
   "source": [
    "# Preprocessing"
   ]
  },
  {
   "cell_type": "code",
   "execution_count": 2,
   "metadata": {},
   "outputs": [],
   "source": [
    "import numpy as np\n",
    "# We will use the sklearn preprocessing library.\n",
    "from sklearn import preprocessing\n",
    "\n",
    "# Load the data\n",
    "raw_csv_data = np.loadtxt('Audiobooks-data.csv',delimiter=',')\n",
    "\n",
    "# The inputs are all columns in the csv, except for the first one [:,0]\n",
    "# (which is customer IDs that bear no useful information),\n",
    "# and the last one [:,-1] (which is our targets)\n",
    "\n",
    "unscaled_inputs_all = raw_csv_data[:,1:-1]\n",
    "\n",
    "# The targets are in the last column. \n",
    "targets_all = raw_csv_data[:,-1]"
   ]
  },
  {
   "cell_type": "markdown",
   "metadata": {},
   "source": [
    "### Balance the dataset"
   ]
  },
  {
   "cell_type": "code",
   "execution_count": 3,
   "metadata": {},
   "outputs": [],
   "source": [
    "# Count how many targets are 1 (meaning that the customer did convert)\n",
    "num_one_targets = int(np.sum(targets_all))\n",
    "\n",
    "# Set a counter for targets that are 0 (meaning that the customer did not convert)\n",
    "zero_targets_counter = 0\n",
    "\n",
    "# We want to create a \"balanced\" dataset, so we will have to remove some input/target pairs.\n",
    "# Declare a variable that will do that:\n",
    "indices_to_remove = []\n",
    "\n",
    "# Count the number of targets that are 0. \n",
    "# Once there are as many 0s as 1s, mark entries where the target is 0.\n",
    "for i in range(targets_all.shape[0]):\n",
    "    if targets_all[i] == 0:\n",
    "        zero_targets_counter += 1\n",
    "        if zero_targets_counter > num_one_targets:\n",
    "            indices_to_remove.append(i)\n",
    "\n",
    "# Create two new variables, one that will contain the inputs, and one that will contain the targets.\n",
    "# We delete all indices that we marked \"to remove\" in the loop above.\n",
    "unscaled_inputs_equal_priors = np.delete(unscaled_inputs_all, indices_to_remove, axis=0)\n",
    "\n",
    "# np.delete(array, obj to delete, axis) is a method that deletes an object along an axis\n",
    "targets_equal_priors = np.delete(targets_all, indices_to_remove, axis=0)"
   ]
  },
  {
   "cell_type": "code",
   "execution_count": 4,
   "metadata": {},
   "outputs": [],
   "source": [
    "### Standardize the inputs\n",
    "scaled_inputs = preprocessing.scale(unscaled_inputs_equal_priors)"
   ]
  },
  {
   "cell_type": "markdown",
   "metadata": {},
   "source": [
    "### Shuffle the data"
   ]
  },
  {
   "cell_type": "code",
   "execution_count": 5,
   "metadata": {},
   "outputs": [],
   "source": [
    "# the data was arranged by date\n",
    "# Shuffle the indices of the data, so the data is not arranged in any way when we feed it.\n",
    "# Since we will be batching, we want the data to be as randomly spread out as possible\n",
    "shuffled_indices = np.arange(scaled_inputs.shape[0])\n",
    "np.random.shuffle(shuffled_indices)\n",
    "\n",
    "# Use the shuffled indices to shuffle the inputs and targets.\n",
    "shuffled_inputs = scaled_inputs[shuffled_indices]\n",
    "shuffled_targets = targets_equal_priors[shuffled_indices]"
   ]
  },
  {
   "cell_type": "markdown",
   "metadata": {},
   "source": [
    "### Split the dataset"
   ]
  },
  {
   "cell_type": "code",
   "execution_count": 8,
   "metadata": {},
   "outputs": [
    {
     "name": "stdout",
     "output_type": "stream",
     "text": [
      "1779.0 3579 0.49706621961441744\n",
      "241.0 447 0.5391498881431768\n",
      "217.0 448 0.484375\n"
     ]
    }
   ],
   "source": [
    "# Count the total number of samples\n",
    "samples_count = shuffled_inputs.shape[0]\n",
    "\n",
    "# Count the samples in each subset, assuming we want 80-10-10 distribution of training, validation, and test.\n",
    "# Naturally, the numbers are integers.\n",
    "train_samples_count = int(0.8 * samples_count)\n",
    "validation_samples_count = int(0.1 * samples_count)\n",
    "\n",
    "# The 'test' dataset contains all remaining data.\n",
    "test_samples_count = samples_count - train_samples_count - validation_samples_count\n",
    "\n",
    "# Create variables that record the inputs and targets for training\n",
    "# In our shuffled dataset, they are the first \"train_samples_count\" observations\n",
    "train_inputs = shuffled_inputs[:train_samples_count]\n",
    "train_targets = shuffled_targets[:train_samples_count]\n",
    "\n",
    "# Create variables that record the inputs and targets for validation.\n",
    "# They are the next \"validation_samples_count\" observations, folllowing the \"train_samples_count\" we already assigned\n",
    "validation_inputs = shuffled_inputs[train_samples_count:train_samples_count+validation_samples_count]\n",
    "validation_targets = shuffled_targets[train_samples_count:train_samples_count+validation_samples_count]\n",
    "\n",
    "# Create variables that record the inputs and targets for test.\n",
    "# They are everything that is remaining.\n",
    "test_inputs = shuffled_inputs[train_samples_count+validation_samples_count:]\n",
    "test_targets = shuffled_targets[train_samples_count+validation_samples_count:]\n",
    "\n",
    "# We balanced our dataset to be 50-50 (for targets 0 and 1).\n",
    "# Print the number of targets that are 1s, the total number of samples, and the proportion for training, validation, and test.\n",
    "print(np.sum(train_targets), train_samples_count, np.sum(train_targets) / train_samples_count)\n",
    "print(np.sum(validation_targets), validation_samples_count, np.sum(validation_targets) / validation_samples_count)\n",
    "print(np.sum(test_targets), test_samples_count, np.sum(test_targets) / test_samples_count)"
   ]
  },
  {
   "cell_type": "markdown",
   "metadata": {},
   "source": [
    "### Save the three datasets in *.npz"
   ]
  },
  {
   "cell_type": "code",
   "execution_count": 9,
   "metadata": {},
   "outputs": [],
   "source": [
    "np.savez('Audiobooks_data_train', inputs=train_inputs, targets=train_targets)\n",
    "np.savez('Audiobooks_data_validation', inputs=validation_inputs, targets=validation_targets)\n",
    "np.savez('Audiobooks_data_test', inputs=test_inputs, targets=test_targets)"
   ]
  },
  {
   "cell_type": "markdown",
   "metadata": {},
   "source": [
    "### Create a class that will batch the data"
   ]
  },
  {
   "cell_type": "code",
   "execution_count": 10,
   "metadata": {},
   "outputs": [],
   "source": [
    "# There are some batching methods integrated in TensorFlow and sklearn, but some problems may need specific coding.\n",
    "\n",
    "import numpy as np\n",
    "\n",
    "# Create a class that will do the batching for the algorithm\n",
    "# This code is extremely reusable. \n",
    "class Audiobooks_Data_Reader():\n",
    "    # Dataset is a mandatory arugment, while the batch_size is optional\n",
    "    # If you don't input batch_size, it will automatically take the value: None\n",
    "    def __init__(self, dataset, batch_size = None):\n",
    "    \n",
    "        # The dataset that loads is one of \"train\", \"validation\", \"test\".\n",
    "        # example. if I call this class with x('train',5), it will load 'Audiobooks_data_train.npz' with a batch size of 5.\n",
    "        npz = np.load('Audiobooks_data_{0}.npz'.format(dataset))\n",
    "        \n",
    "        # Two variables that take the values of the inputs and the targets. Inputs are floats, targets are integers\n",
    "        self.inputs, self.targets = npz['inputs'].astype(np.float), npz['targets'].astype(np.int)\n",
    "        \n",
    "        # Counts the batch number, given the size you feed it later\n",
    "        # If the batch size is None, we are either validating or testing, so we want to take the data in a single batch\n",
    "        if batch_size is None:\n",
    "            self.batch_size = self.inputs.shape[0]\n",
    "        else:\n",
    "            self.batch_size = batch_size\n",
    "        self.curr_batch = 0\n",
    "        self.batch_count = self.inputs.shape[0] // self.batch_size\n",
    "    \n",
    "    # A method which loads the next batch\n",
    "    def __next__(self):\n",
    "        if self.curr_batch >= self.batch_count:\n",
    "            self.curr_batch = 0\n",
    "            raise StopIteration()\n",
    "            \n",
    "        # slice the dataset in batches and then the \"next\" function loads them one after the other\n",
    "        batch_slice = slice(self.curr_batch * self.batch_size, (self.curr_batch + 1) * self.batch_size)\n",
    "        inputs_batch = self.inputs[batch_slice]\n",
    "        targets_batch = self.targets[batch_slice]\n",
    "        self.curr_batch += 1\n",
    "        \n",
    "        # One-hot encode the targets. \n",
    "        classes_num = 2\n",
    "        targets_one_hot = np.zeros((targets_batch.shape[0], classes_num))\n",
    "        targets_one_hot[range(targets_batch.shape[0]), targets_batch] = 1\n",
    "        \n",
    "        # The function will return the inputs batch and the one-hot encoded targets\n",
    "        return inputs_batch, targets_one_hot\n",
    "    \n",
    "        \n",
    "   # An iterator in Python is a class with a method __next__ that defines exactly how to iterate through its objects\n",
    "    def __iter__(self):\n",
    "        return self"
   ]
  },
  {
   "cell_type": "markdown",
   "metadata": {},
   "source": [
    "## Machine learning algorithm in tensorflow"
   ]
  },
  {
   "cell_type": "code",
   "execution_count": 11,
   "metadata": {},
   "outputs": [
    {
     "name": "stdout",
     "output_type": "stream",
     "text": [
      "WARNING:tensorflow:From <ipython-input-11-0a6721bcb522>:33: softmax_cross_entropy_with_logits (from tensorflow.python.ops.nn_ops) is deprecated and will be removed in a future version.\n",
      "Instructions for updating:\n",
      "\n",
      "Future major versions of TensorFlow will allow gradients to flow\n",
      "into the labels input on backprop by default.\n",
      "\n",
      "See `tf.nn.softmax_cross_entropy_with_logits_v2`.\n",
      "\n"
     ]
    }
   ],
   "source": [
    "# We need to import TF \n",
    "import tensorflow as tf\n",
    "\n",
    "# Input size depends on the number of input variables. We have 10 of them\n",
    "input_size = 10\n",
    "# Output size is 2, as we one-hot encoded the targets.\n",
    "output_size = 2\n",
    "# Choose a hidden_layer_size\n",
    "hidden_layer_size = 50\n",
    "\n",
    "# Reset the default graph, so you can fiddle with the hyperparameters and then rerun the code.\n",
    "tf.reset_default_graph()\n",
    "\n",
    "# Create the placeholders\n",
    "inputs = tf.placeholder(tf.float32, [None, input_size])\n",
    "targets = tf.placeholder(tf.int32, [None, output_size])\n",
    "\n",
    "# Outline the model. We will create a net with 2 hidden layers\n",
    "weights_1 = tf.get_variable(\"weights_1\", [input_size, hidden_layer_size])\n",
    "biases_1 = tf.get_variable(\"biases_1\", [hidden_layer_size])\n",
    "outputs_1 = tf.nn.relu(tf.matmul(inputs, weights_1) + biases_1)\n",
    "\n",
    "weights_2 = tf.get_variable(\"weights_2\", [hidden_layer_size, hidden_layer_size])\n",
    "biases_2 = tf.get_variable(\"biases_2\", [hidden_layer_size])\n",
    "outputs_2 = tf.nn.sigmoid(tf.matmul(outputs_1, weights_2) + biases_2)\n",
    "\n",
    "weights_3 = tf.get_variable(\"weights_3\", [hidden_layer_size, output_size])\n",
    "biases_3 = tf.get_variable(\"biases_3\", [output_size])\n",
    "# We will incorporate the softmax activation into the loss, as in the previous example\n",
    "outputs = tf.matmul(outputs_2, weights_3) + biases_3\n",
    "\n",
    "# Use the softmax cross entropy loss with logits\n",
    "loss = tf.nn.softmax_cross_entropy_with_logits(logits=outputs, labels=targets)\n",
    "mean_loss = tf.reduce_mean(loss)\n",
    "\n",
    "# Get a 0 or 1 for every input indicating whether it output the correct answer\n",
    "out_equals_target = tf.equal(tf.argmax(outputs, 1), tf.argmax(targets, 1))\n",
    "accuracy = tf.reduce_mean(tf.cast(out_equals_target, tf.float32))\n",
    "\n",
    "# Optimize with Adam\n",
    "optimize = tf.train.AdamOptimizer(learning_rate=0.0001).minimize(mean_loss)\n",
    "\n",
    "# Create a session\n",
    "sess = tf.InteractiveSession()\n",
    "\n",
    "# Initialize the variables\n",
    "initializer = tf.global_variables_initializer()\n",
    "sess.run(initializer)\n",
    "\n",
    "# Choose the batch size\n",
    "batch_size = 100\n",
    "\n",
    "# Set early stopping mechanisms\n",
    "max_epochs = 100\n",
    "prev_validation_loss = 9999999.\n",
    "\n",
    "# Load the first batch of training and validation, using the class we created. \n",
    "# Arguments are ending of 'Audiobooks_Data_<...>', where for <...> we input 'train', 'validation', or 'test'\n",
    "# depending on what we want to load\n",
    "train_data = Audiobooks_Data_Reader('train', batch_size)\n",
    "validation_data = Audiobooks_Data_Reader('validation')"
   ]
  },
  {
   "cell_type": "markdown",
   "metadata": {},
   "source": [
    "### Optimizing the algorithm"
   ]
  },
  {
   "cell_type": "code",
   "execution_count": 13,
   "metadata": {},
   "outputs": [
    {
     "name": "stdout",
     "output_type": "stream",
     "text": [
      "Epoch 1. Training loss: 0.360. Validation loss: 0.325. Validation accuracy: 84.79%\n",
      "Epoch 2. Training loss: 0.359. Validation loss: 0.324. Validation accuracy: 84.56%\n",
      "Epoch 3. Training loss: 0.359. Validation loss: 0.324. Validation accuracy: 84.56%\n",
      "Epoch 4. Training loss: 0.358. Validation loss: 0.323. Validation accuracy: 84.56%\n",
      "Epoch 5. Training loss: 0.358. Validation loss: 0.323. Validation accuracy: 84.56%\n",
      "Epoch 6. Training loss: 0.357. Validation loss: 0.323. Validation accuracy: 84.56%\n",
      "Epoch 7. Training loss: 0.357. Validation loss: 0.322. Validation accuracy: 84.56%\n",
      "Epoch 8. Training loss: 0.357. Validation loss: 0.322. Validation accuracy: 84.56%\n",
      "Epoch 9. Training loss: 0.356. Validation loss: 0.321. Validation accuracy: 84.79%\n",
      "Epoch 10. Training loss: 0.356. Validation loss: 0.321. Validation accuracy: 84.79%\n",
      "Epoch 11. Training loss: 0.355. Validation loss: 0.321. Validation accuracy: 84.79%\n",
      "Epoch 12. Training loss: 0.355. Validation loss: 0.320. Validation accuracy: 84.79%\n",
      "Epoch 13. Training loss: 0.355. Validation loss: 0.320. Validation accuracy: 84.79%\n",
      "Epoch 14. Training loss: 0.354. Validation loss: 0.319. Validation accuracy: 84.79%\n",
      "Epoch 15. Training loss: 0.354. Validation loss: 0.319. Validation accuracy: 84.79%\n",
      "Epoch 16. Training loss: 0.354. Validation loss: 0.319. Validation accuracy: 85.01%\n",
      "Epoch 17. Training loss: 0.353. Validation loss: 0.318. Validation accuracy: 85.01%\n",
      "Epoch 18. Training loss: 0.353. Validation loss: 0.318. Validation accuracy: 85.01%\n",
      "Epoch 19. Training loss: 0.353. Validation loss: 0.318. Validation accuracy: 85.23%\n",
      "Epoch 20. Training loss: 0.352. Validation loss: 0.317. Validation accuracy: 85.23%\n",
      "Epoch 21. Training loss: 0.352. Validation loss: 0.317. Validation accuracy: 85.23%\n",
      "Epoch 22. Training loss: 0.352. Validation loss: 0.317. Validation accuracy: 85.01%\n",
      "Epoch 23. Training loss: 0.351. Validation loss: 0.316. Validation accuracy: 85.01%\n",
      "Epoch 24. Training loss: 0.351. Validation loss: 0.316. Validation accuracy: 85.01%\n",
      "Epoch 25. Training loss: 0.351. Validation loss: 0.316. Validation accuracy: 85.01%\n",
      "Epoch 26. Training loss: 0.350. Validation loss: 0.315. Validation accuracy: 85.01%\n",
      "Epoch 27. Training loss: 0.350. Validation loss: 0.315. Validation accuracy: 85.01%\n",
      "Epoch 28. Training loss: 0.350. Validation loss: 0.315. Validation accuracy: 85.01%\n",
      "Epoch 29. Training loss: 0.349. Validation loss: 0.314. Validation accuracy: 85.23%\n",
      "Epoch 30. Training loss: 0.349. Validation loss: 0.314. Validation accuracy: 85.23%\n",
      "Epoch 31. Training loss: 0.349. Validation loss: 0.314. Validation accuracy: 85.23%\n",
      "Epoch 32. Training loss: 0.349. Validation loss: 0.314. Validation accuracy: 85.23%\n",
      "Epoch 33. Training loss: 0.348. Validation loss: 0.313. Validation accuracy: 85.23%\n",
      "Epoch 34. Training loss: 0.348. Validation loss: 0.313. Validation accuracy: 85.23%\n",
      "Epoch 35. Training loss: 0.348. Validation loss: 0.313. Validation accuracy: 85.23%\n",
      "Epoch 36. Training loss: 0.348. Validation loss: 0.312. Validation accuracy: 85.23%\n",
      "Epoch 37. Training loss: 0.347. Validation loss: 0.312. Validation accuracy: 85.23%\n",
      "Epoch 38. Training loss: 0.347. Validation loss: 0.312. Validation accuracy: 85.23%\n",
      "Epoch 39. Training loss: 0.347. Validation loss: 0.312. Validation accuracy: 85.23%\n",
      "Epoch 40. Training loss: 0.347. Validation loss: 0.311. Validation accuracy: 85.23%\n",
      "Epoch 41. Training loss: 0.346. Validation loss: 0.311. Validation accuracy: 85.23%\n",
      "Epoch 42. Training loss: 0.346. Validation loss: 0.311. Validation accuracy: 85.01%\n",
      "Epoch 43. Training loss: 0.346. Validation loss: 0.311. Validation accuracy: 85.01%\n",
      "Epoch 44. Training loss: 0.346. Validation loss: 0.310. Validation accuracy: 85.01%\n",
      "Epoch 45. Training loss: 0.345. Validation loss: 0.310. Validation accuracy: 85.01%\n",
      "Epoch 46. Training loss: 0.345. Validation loss: 0.310. Validation accuracy: 85.23%\n",
      "Epoch 47. Training loss: 0.345. Validation loss: 0.310. Validation accuracy: 85.23%\n",
      "Epoch 48. Training loss: 0.345. Validation loss: 0.310. Validation accuracy: 85.23%\n",
      "Epoch 49. Training loss: 0.344. Validation loss: 0.309. Validation accuracy: 85.23%\n",
      "Epoch 50. Training loss: 0.344. Validation loss: 0.309. Validation accuracy: 85.23%\n",
      "Epoch 51. Training loss: 0.344. Validation loss: 0.309. Validation accuracy: 85.23%\n",
      "Epoch 52. Training loss: 0.344. Validation loss: 0.309. Validation accuracy: 85.23%\n",
      "Epoch 53. Training loss: 0.344. Validation loss: 0.308. Validation accuracy: 85.23%\n",
      "Epoch 54. Training loss: 0.343. Validation loss: 0.308. Validation accuracy: 85.23%\n",
      "Epoch 55. Training loss: 0.343. Validation loss: 0.308. Validation accuracy: 85.23%\n",
      "Epoch 56. Training loss: 0.343. Validation loss: 0.308. Validation accuracy: 85.23%\n",
      "Epoch 57. Training loss: 0.343. Validation loss: 0.308. Validation accuracy: 85.23%\n",
      "Epoch 58. Training loss: 0.342. Validation loss: 0.307. Validation accuracy: 85.23%\n",
      "Epoch 59. Training loss: 0.342. Validation loss: 0.307. Validation accuracy: 85.23%\n",
      "Epoch 60. Training loss: 0.342. Validation loss: 0.307. Validation accuracy: 85.23%\n",
      "Epoch 61. Training loss: 0.342. Validation loss: 0.307. Validation accuracy: 85.23%\n",
      "Epoch 62. Training loss: 0.342. Validation loss: 0.307. Validation accuracy: 85.23%\n",
      "Epoch 63. Training loss: 0.342. Validation loss: 0.307. Validation accuracy: 85.23%\n",
      "Epoch 64. Training loss: 0.341. Validation loss: 0.306. Validation accuracy: 85.23%\n",
      "Epoch 65. Training loss: 0.341. Validation loss: 0.306. Validation accuracy: 85.23%\n",
      "Epoch 66. Training loss: 0.341. Validation loss: 0.306. Validation accuracy: 85.23%\n",
      "Epoch 67. Training loss: 0.341. Validation loss: 0.306. Validation accuracy: 85.23%\n",
      "Epoch 68. Training loss: 0.341. Validation loss: 0.306. Validation accuracy: 85.23%\n",
      "Epoch 69. Training loss: 0.340. Validation loss: 0.305. Validation accuracy: 85.23%\n",
      "Epoch 70. Training loss: 0.340. Validation loss: 0.305. Validation accuracy: 85.23%\n",
      "Epoch 71. Training loss: 0.340. Validation loss: 0.305. Validation accuracy: 85.23%\n",
      "Epoch 72. Training loss: 0.340. Validation loss: 0.305. Validation accuracy: 85.23%\n",
      "Epoch 73. Training loss: 0.340. Validation loss: 0.305. Validation accuracy: 85.23%\n",
      "Epoch 74. Training loss: 0.340. Validation loss: 0.305. Validation accuracy: 85.23%\n",
      "Epoch 75. Training loss: 0.339. Validation loss: 0.305. Validation accuracy: 85.23%\n",
      "Epoch 76. Training loss: 0.339. Validation loss: 0.304. Validation accuracy: 85.23%\n",
      "Epoch 77. Training loss: 0.339. Validation loss: 0.304. Validation accuracy: 85.23%\n",
      "Epoch 78. Training loss: 0.339. Validation loss: 0.304. Validation accuracy: 85.46%\n",
      "Epoch 79. Training loss: 0.339. Validation loss: 0.304. Validation accuracy: 85.46%\n",
      "Epoch 80. Training loss: 0.339. Validation loss: 0.304. Validation accuracy: 85.46%\n",
      "Epoch 81. Training loss: 0.338. Validation loss: 0.304. Validation accuracy: 85.46%\n",
      "Epoch 82. Training loss: 0.338. Validation loss: 0.303. Validation accuracy: 85.46%\n",
      "Epoch 83. Training loss: 0.338. Validation loss: 0.303. Validation accuracy: 85.46%\n",
      "Epoch 84. Training loss: 0.338. Validation loss: 0.303. Validation accuracy: 85.46%\n",
      "Epoch 85. Training loss: 0.338. Validation loss: 0.303. Validation accuracy: 85.46%\n",
      "Epoch 86. Training loss: 0.338. Validation loss: 0.303. Validation accuracy: 85.46%\n",
      "Epoch 87. Training loss: 0.338. Validation loss: 0.303. Validation accuracy: 85.46%\n",
      "Epoch 88. Training loss: 0.337. Validation loss: 0.303. Validation accuracy: 85.46%\n",
      "Epoch 89. Training loss: 0.337. Validation loss: 0.302. Validation accuracy: 85.46%\n",
      "Epoch 90. Training loss: 0.337. Validation loss: 0.302. Validation accuracy: 85.46%\n",
      "Epoch 91. Training loss: 0.337. Validation loss: 0.302. Validation accuracy: 85.23%\n",
      "Epoch 92. Training loss: 0.337. Validation loss: 0.302. Validation accuracy: 85.23%\n",
      "Epoch 93. Training loss: 0.337. Validation loss: 0.302. Validation accuracy: 85.23%\n",
      "Epoch 94. Training loss: 0.337. Validation loss: 0.302. Validation accuracy: 85.23%\n",
      "Epoch 95. Training loss: 0.336. Validation loss: 0.302. Validation accuracy: 85.23%\n",
      "Epoch 96. Training loss: 0.336. Validation loss: 0.302. Validation accuracy: 85.23%\n",
      "Epoch 97. Training loss: 0.336. Validation loss: 0.301. Validation accuracy: 85.23%\n",
      "Epoch 98. Training loss: 0.336. Validation loss: 0.301. Validation accuracy: 85.23%\n"
     ]
    },
    {
     "name": "stdout",
     "output_type": "stream",
     "text": [
      "Epoch 99. Training loss: 0.336. Validation loss: 0.301. Validation accuracy: 85.23%\n",
      "Epoch 100. Training loss: 0.336. Validation loss: 0.301. Validation accuracy: 85.23%\n",
      "End of training.\n"
     ]
    }
   ],
   "source": [
    "# Create the loop for epochs \n",
    "for epoch_counter in range(max_epochs):\n",
    "    \n",
    "    # Set the epoch loss to 0, and make it a float\n",
    "    curr_epoch_loss = 0.\n",
    "    \n",
    "    # Iterate over the training data \n",
    "    # Since train_data is an instance of the Audiobooks_Data_Reader class,\n",
    "    # we can iterate through it by implicitly using the __next__ method we defined above.\n",
    "    for input_batch, target_batch in train_data:\n",
    "        _, batch_loss = sess.run([optimize, mean_loss], \n",
    "            feed_dict={inputs: input_batch, targets: target_batch})\n",
    "        \n",
    "        #Record the batch loss into the current epoch loss\n",
    "        curr_epoch_loss += batch_loss\n",
    "    \n",
    "    # Find the mean curr_epoch_loss\n",
    "    # batch_count is a variable, defined in the Audiobooks_Data_Reader class\n",
    "    curr_epoch_loss /= train_data.batch_count\n",
    "    \n",
    "    # Set validation loss and accuracy for the epoch to zero\n",
    "    validation_loss = 0.\n",
    "    validation_accuracy = 0.\n",
    "    \n",
    "    # Use the same logic of the code to forward propagate the validation set\n",
    "    # There will be a single batch, as the class was created in this way\n",
    "    for input_batch, target_batch in validation_data:\n",
    "        validation_loss, validation_accuracy = sess.run([mean_loss, accuracy],\n",
    "            feed_dict={inputs: input_batch, targets: target_batch})\n",
    "    \n",
    "    # Print statistics for the current epoch\n",
    "    print('Epoch '+str(epoch_counter+1)+\n",
    "          '. Training loss: '+'{0:.3f}'.format(curr_epoch_loss)+\n",
    "          '. Validation loss: '+'{0:.3f}'.format(validation_loss)+\n",
    "          '. Validation accuracy: '+'{0:.2f}'.format(validation_accuracy * 100.)+'%')\n",
    "    \n",
    "    # early stopping if validation loss begins increasing.\n",
    "    if validation_loss > prev_validation_loss:\n",
    "        break\n",
    "        \n",
    "    # Store this epoch's validation loss to be used as previous in the next iteration.\n",
    "    prev_validation_loss = validation_loss\n",
    "    \n",
    "print('End of training.')"
   ]
  },
  {
   "cell_type": "markdown",
   "metadata": {},
   "source": [
    "## Test the model"
   ]
  },
  {
   "cell_type": "code",
   "execution_count": 16,
   "metadata": {},
   "outputs": [
    {
     "name": "stdout",
     "output_type": "stream",
     "text": [
      "Test accuracy: 80.36%\n"
     ]
    }
   ],
   "source": [
    "test_data = Audiobooks_Data_Reader('test')\n",
    "\n",
    "for input_batch, target_batch in test_data:\n",
    "        # When we run a single output with sess.run, the result is a list with a single value\n",
    "        test_accuracy = sess.run([accuracy],\n",
    "            feed_dict={inputs: input_batch, targets: target_batch})\n",
    "        \n",
    "test_accuracy_percent = test_accuracy[0]*100.\n",
    "print('Test accuracy: '+'{0:.2f}'.format(test_accuracy_percent) + '%')"
   ]
  },
  {
   "cell_type": "code",
   "execution_count": null,
   "metadata": {},
   "outputs": [],
   "source": []
  }
 ],
 "metadata": {
  "kernelspec": {
   "display_name": "Python 3",
   "language": "python",
   "name": "python3"
  },
  "language_info": {
   "codemirror_mode": {
    "name": "ipython",
    "version": 3
   },
   "file_extension": ".py",
   "mimetype": "text/x-python",
   "name": "python",
   "nbconvert_exporter": "python",
   "pygments_lexer": "ipython3",
   "version": "3.6.4"
  }
 },
 "nbformat": 4,
 "nbformat_minor": 2
}
